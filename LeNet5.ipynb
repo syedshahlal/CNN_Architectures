{
  "nbformat": 4,
  "nbformat_minor": 0,
  "metadata": {
    "colab": {
      "provenance": [],
      "gpuType": "T4",
      "authorship_tag": "ABX9TyNtb1g8JVZxmsvregIlz3eu",
      "include_colab_link": true
    },
    "kernelspec": {
      "name": "python3",
      "display_name": "Python 3"
    },
    "language_info": {
      "name": "python"
    },
    "accelerator": "GPU"
  },
  "cells": [
    {
      "cell_type": "markdown",
      "metadata": {
        "id": "view-in-github",
        "colab_type": "text"
      },
      "source": [
        "<a href=\"https://colab.research.google.com/github/syedshahlal/CNN_Architectures/blob/main/LeNet5.ipynb\" target=\"_parent\"><img src=\"https://colab.research.google.com/assets/colab-badge.svg\" alt=\"Open In Colab\"/></a>"
      ]
    },
    {
      "cell_type": "code",
      "execution_count": 1,
      "metadata": {
        "id": "yfzn4HUvgEEh"
      },
      "outputs": [],
      "source": [
        "import tensorflow as tf\n",
        "from tensorflow import keras\n",
        "from keras.datasets import mnist\n",
        "from keras.layers import Dense, Flatten, Conv2D, AveragePooling2D\n",
        "from keras.models import Sequential\n"
      ]
    },
    {
      "cell_type": "code",
      "source": [
        "(x_train, y_train),(x_test, y_test) = mnist.load_data()"
      ],
      "metadata": {
        "id": "e_Kk2StBgrNp"
      },
      "execution_count": 2,
      "outputs": []
    },
    {
      "cell_type": "code",
      "source": [
        "x_train.shape"
      ],
      "metadata": {
        "colab": {
          "base_uri": "https://localhost:8080/"
        },
        "id": "D9jIOHyihq_o",
        "outputId": "9e971aa0-54c3-43e2-f38f-5fa95b7a4fb8"
      },
      "execution_count": 3,
      "outputs": [
        {
          "output_type": "execute_result",
          "data": {
            "text/plain": [
              "(60000, 28, 28)"
            ]
          },
          "metadata": {},
          "execution_count": 3
        }
      ]
    },
    {
      "cell_type": "code",
      "source": [
        "#performing reshaping\n",
        "\n",
        "x_train=x_train.reshape(x_train.shape[0], 28,28,1)\n",
        "x_test=x_test.reshape(x_test.shape[0], 28,28,1)"
      ],
      "metadata": {
        "id": "ufA7fgl4g5kz"
      },
      "execution_count": 4,
      "outputs": []
    },
    {
      "cell_type": "code",
      "source": [
        "x_train.shape"
      ],
      "metadata": {
        "colab": {
          "base_uri": "https://localhost:8080/"
        },
        "id": "3HR3bPgbhi5F",
        "outputId": "f9e98381-c780-4f16-c830-2dc3cce271be"
      },
      "execution_count": 5,
      "outputs": [
        {
          "output_type": "execute_result",
          "data": {
            "text/plain": [
              "(60000, 28, 28, 1)"
            ]
          },
          "metadata": {},
          "execution_count": 5
        }
      ]
    },
    {
      "cell_type": "code",
      "source": [
        "#normalization of the data\n",
        "x_train = x_train/255\n",
        "x_test = x_test/255"
      ],
      "metadata": {
        "id": "xg1UAA0gh5zj"
      },
      "execution_count": 6,
      "outputs": []
    },
    {
      "cell_type": "code",
      "source": [
        "y_train[0]"
      ],
      "metadata": {
        "colab": {
          "base_uri": "https://localhost:8080/"
        },
        "id": "tFxUYcajj2jx",
        "outputId": "b966e5f4-c90d-44ea-8285-cc6dc5dd8ab3"
      },
      "execution_count": 7,
      "outputs": [
        {
          "output_type": "execute_result",
          "data": {
            "text/plain": [
              "5"
            ]
          },
          "metadata": {},
          "execution_count": 7
        }
      ]
    },
    {
      "cell_type": "code",
      "source": [
        "#apply one hot encoding for the output column\n",
        "y_train = keras.utils.to_categorical(y_train,10)\n",
        "y_test = keras.utils.to_categorical(y_test,10)"
      ],
      "metadata": {
        "id": "hc7_UfgMj6M2"
      },
      "execution_count": 8,
      "outputs": []
    },
    {
      "cell_type": "code",
      "source": [
        "y_train[0]"
      ],
      "metadata": {
        "colab": {
          "base_uri": "https://localhost:8080/"
        },
        "id": "7l8bFIrDkb5T",
        "outputId": "763b60ab-d011-4052-f747-ce18a591a19e"
      },
      "execution_count": 9,
      "outputs": [
        {
          "output_type": "execute_result",
          "data": {
            "text/plain": [
              "array([0., 0., 0., 0., 0., 1., 0., 0., 0., 0.], dtype=float32)"
            ]
          },
          "metadata": {},
          "execution_count": 9
        }
      ]
    },
    {
      "cell_type": "markdown",
      "source": [
        "#Model_Architecture"
      ],
      "metadata": {
        "id": "e9R5-8KDk5rs"
      }
    },
    {
      "cell_type": "code",
      "source": [
        "model = Sequential()\n",
        "\n",
        "model.add(Conv2D(6, kernel_size=(5,5), padding='valid', activation='tanh', input_shape=(28,28,1)))\n",
        "model.add(AveragePooling2D(pool_size=(2,2), strides=2, padding='valid'))\n",
        "\n",
        "model.add(Conv2D(16, kernel_size=(5,5), padding='valid', activation='tanh'))\n",
        "model.add(AveragePooling2D(pool_size=(2,2), strides=2, padding='valid'))\n",
        "\n",
        "model.add(Flatten())\n",
        "\n",
        "model.add(Dense(120, activation='tanh'))\n",
        "model.add(Dense(84, activation='tanh'))\n",
        "model.add(Dense(10, activation='softmax'))\n",
        "\n",
        "model.summary()"
      ],
      "metadata": {
        "colab": {
          "base_uri": "https://localhost:8080/"
        },
        "id": "lLIxLM5ikelR",
        "outputId": "81d3d6bd-35e6-41a5-8c49-2a0799730248"
      },
      "execution_count": 14,
      "outputs": [
        {
          "output_type": "stream",
          "name": "stdout",
          "text": [
            "Model: \"sequential_1\"\n",
            "_________________________________________________________________\n",
            " Layer (type)                Output Shape              Param #   \n",
            "=================================================================\n",
            " conv2d_2 (Conv2D)           (None, 24, 24, 6)         156       \n",
            "                                                                 \n",
            " average_pooling2d_2 (Avera  (None, 12, 12, 6)         0         \n",
            " gePooling2D)                                                    \n",
            "                                                                 \n",
            " conv2d_3 (Conv2D)           (None, 8, 8, 16)          2416      \n",
            "                                                                 \n",
            " average_pooling2d_3 (Avera  (None, 4, 4, 16)          0         \n",
            " gePooling2D)                                                    \n",
            "                                                                 \n",
            " flatten_1 (Flatten)         (None, 256)               0         \n",
            "                                                                 \n",
            " dense_3 (Dense)             (None, 120)               30840     \n",
            "                                                                 \n",
            " dense_4 (Dense)             (None, 84)                10164     \n",
            "                                                                 \n",
            " dense_5 (Dense)             (None, 10)                850       \n",
            "                                                                 \n",
            "=================================================================\n",
            "Total params: 44426 (173.54 KB)\n",
            "Trainable params: 44426 (173.54 KB)\n",
            "Non-trainable params: 0 (0.00 Byte)\n",
            "_________________________________________________________________\n"
          ]
        }
      ]
    },
    {
      "cell_type": "code",
      "source": [
        "model.compile(loss=keras.metrics.categorical_crossentropy, optimizer=keras.optimizers.Adam(),metrics=[\"accuracy\"])"
      ],
      "metadata": {
        "id": "eaKFgdxemAh3"
      },
      "execution_count": 15,
      "outputs": []
    },
    {
      "cell_type": "code",
      "source": [
        "model.fit(x_train,y_train, batch_size= 128, epochs=10, verbose=1, validation_data=(x_test, y_test))"
      ],
      "metadata": {
        "colab": {
          "base_uri": "https://localhost:8080/"
        },
        "id": "ype5HILgoCoB",
        "outputId": "dc8171f4-f8da-4c1f-ba96-02fd5b5efb49"
      },
      "execution_count": 16,
      "outputs": [
        {
          "output_type": "stream",
          "name": "stdout",
          "text": [
            "Epoch 1/10\n",
            "469/469 [==============================] - 13s 6ms/step - loss: 0.3495 - accuracy: 0.9003 - val_loss: 0.1545 - val_accuracy: 0.9541\n",
            "Epoch 2/10\n",
            "469/469 [==============================] - 2s 5ms/step - loss: 0.1279 - accuracy: 0.9610 - val_loss: 0.0937 - val_accuracy: 0.9715\n",
            "Epoch 3/10\n",
            "469/469 [==============================] - 3s 6ms/step - loss: 0.0836 - accuracy: 0.9742 - val_loss: 0.0688 - val_accuracy: 0.9796\n",
            "Epoch 4/10\n",
            "469/469 [==============================] - 3s 6ms/step - loss: 0.0634 - accuracy: 0.9810 - val_loss: 0.0601 - val_accuracy: 0.9807\n",
            "Epoch 5/10\n",
            "469/469 [==============================] - 2s 5ms/step - loss: 0.0520 - accuracy: 0.9834 - val_loss: 0.0482 - val_accuracy: 0.9846\n",
            "Epoch 6/10\n",
            "469/469 [==============================] - 2s 5ms/step - loss: 0.0424 - accuracy: 0.9869 - val_loss: 0.0500 - val_accuracy: 0.9842\n",
            "Epoch 7/10\n",
            "469/469 [==============================] - 2s 5ms/step - loss: 0.0365 - accuracy: 0.9889 - val_loss: 0.0588 - val_accuracy: 0.9799\n",
            "Epoch 8/10\n",
            "469/469 [==============================] - 3s 5ms/step - loss: 0.0312 - accuracy: 0.9904 - val_loss: 0.0439 - val_accuracy: 0.9855\n",
            "Epoch 9/10\n",
            "469/469 [==============================] - 3s 6ms/step - loss: 0.0276 - accuracy: 0.9916 - val_loss: 0.0421 - val_accuracy: 0.9864\n",
            "Epoch 10/10\n",
            "469/469 [==============================] - 2s 5ms/step - loss: 0.0231 - accuracy: 0.9928 - val_loss: 0.0490 - val_accuracy: 0.9847\n"
          ]
        },
        {
          "output_type": "execute_result",
          "data": {
            "text/plain": [
              "<keras.src.callbacks.History at 0x783103324cd0>"
            ]
          },
          "metadata": {},
          "execution_count": 16
        }
      ]
    },
    {
      "cell_type": "code",
      "source": [
        "score=model.evaluate(x_test, y_test)\n",
        "\n",
        "print('Test loss:', score[0])\n",
        "print('Test accuracy:', score[1])"
      ],
      "metadata": {
        "colab": {
          "base_uri": "https://localhost:8080/"
        },
        "id": "f49JCy0modxs",
        "outputId": "a90bbe2b-88fa-4b60-ab29-1bcd0e9dce91"
      },
      "execution_count": 17,
      "outputs": [
        {
          "output_type": "stream",
          "name": "stdout",
          "text": [
            "313/313 [==============================] - 2s 5ms/step - loss: 0.0490 - accuracy: 0.9847\n",
            "Test loss: 0.04900991916656494\n",
            "Test accuracy: 0.9847000241279602\n"
          ]
        }
      ]
    },
    {
      "cell_type": "code",
      "source": [],
      "metadata": {
        "id": "CArp4191p9Nn"
      },
      "execution_count": null,
      "outputs": []
    }
  ]
}